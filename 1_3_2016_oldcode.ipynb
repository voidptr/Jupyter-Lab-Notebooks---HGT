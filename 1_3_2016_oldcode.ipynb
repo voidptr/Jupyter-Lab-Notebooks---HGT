{
 "cells": [
  {
   "cell_type": "markdown",
   "metadata": {},
   "source": [
    "# 2016-00-03 07:55:37 "
   ]
  },
  {
   "cell_type": "markdown",
   "metadata": {},
   "source": [
    "## Setup "
   ]
  },
  {
   "cell_type": "code",
   "execution_count": null,
   "metadata": {
    "collapsed": false
   },
   "outputs": [],
   "source": [
    "import glob\n",
    "\n",
    "import pandas as pd\n",
    "import numpy as np\n",
    "import matplotlib.pyplot as plt\n",
    "import scipy  \n",
    "import scikits.bootstrap as bootstrap\n",
    "from scipy import stats\n",
    "pd.__version__"
   ]
  },
  {
   "cell_type": "code",
   "execution_count": null,
   "metadata": {
    "collapsed": true
   },
   "outputs": [],
   "source": [
    "%matplotlib inline"
   ]
  },
  {
   "cell_type": "code",
   "execution_count": null,
   "metadata": {
    "collapsed": false,
    "scrolled": true
   },
   "outputs": [],
   "source": [
    "import scipy  \n",
    "from scipy import stats\n",
    "import scikits.bootstrap as bootstrap  \n",
    "scipy.__version__"
   ]
  },
  {
   "cell_type": "markdown",
   "metadata": {},
   "source": [
    "### Data Specifics"
   ]
  },
  {
   "cell_type": "code",
   "execution_count": null,
   "metadata": {
    "collapsed": false
   },
   "outputs": [],
   "source": [
    "ls"
   ]
  },
  {
   "cell_type": "code",
   "execution_count": null,
   "metadata": {
    "collapsed": true
   },
   "outputs": [],
   "source": [
    "averages_header_row=['update',\n",
    "                     'merit',\n",
    "                     'gestation_time',\n",
    "                     'fitness',\n",
    "                     'repro_rate',\n",
    "                     'size',\n",
    "                     'copied_size',\n",
    "                     'executed_size',\n",
    "                     'abundance',\n",
    "                     'prop_birthers',\n",
    "                     'prop_breedtrue',\n",
    "                     'genotype_depth',\n",
    "                     'generation',\n",
    "                     'neutral_metric',\n",
    "                     'lineage_label',\n",
    "                     'true_rep_rate'\n",
    "                     ]"
   ]
  },
  {
   "cell_type": "markdown",
   "metadata": {},
   "source": [
    "### Functions"
   ]
  },
  {
   "cell_type": "code",
   "execution_count": null,
   "metadata": {
    "collapsed": false
   },
   "outputs": [],
   "source": [
    "averages_header_row=['update',\n",
    "                     'merit',\n",
    "                     'gestation_time',\n",
    "                     'fitness',\n",
    "                     'repro_rate',\n",
    "                     'size',\n",
    "                     'copied_size',\n",
    "                     'executed_size',\n",
    "                     'abundance',\n",
    "                     'prop_birthers',\n",
    "                     'prop_breedtrue',\n",
    "                     'genotype_depth',\n",
    "                     'generation',\n",
    "                     'neutral_metric',\n",
    "                     'lineage_label',\n",
    "                     'true_rep_rate'\n",
    "                     ]\n",
    "# read data into a dict collection of arrays of data frames.\n",
    "# the dict is indexed by the treatment\n",
    "# each item in the array under the dict is a data-frame that is\n",
    "# a replicate of that treatment.\n",
    "# treatment_pattern is \"P_\"+prob+\"/hgtbonus\"\n",
    "# columns is the set of columns we want to keep.\n",
    "def read_treatments(treatment_pattern, target_filename, columns=None, verbose=False, names=None):\n",
    "    if verbose:\n",
    "        print \"READ TREATMENTS\"\n",
    "    data = {}\n",
    "    for folder in glob.glob(\"raw_data/\"+treatment_pattern):\n",
    "        if verbose:\n",
    "            print folder\n",
    "        name = folder.split(\"/\")[2]\n",
    "        if verbose:\n",
    "            print name\n",
    "        data[name] = []\n",
    "\n",
    "#        print folder + \"/*/data*/\"+target_filename\n",
    "#        print glob.glob(folder + \"/*/data*/\"+target_filename)\n",
    "        for datafile in glob.glob(folder + \"/*/data*/\"+target_filename):\n",
    "            #print datafile\n",
    "            bleh = pd.read_csv(datafile,\n",
    "                               names=names, \n",
    "                               delimiter=\" \", \n",
    "                               comment='#',\n",
    "                               usecols=columns,\n",
    "                               index_col=False)\n",
    "            data[name].append(bleh)\n",
    "    if verbose:\n",
    "        print \"DONE\"\n",
    "    return data\n",
    "\n",
    "## tests\n",
    "thing = read_treatments(\"P_1/hgtbonus\", \"average.dat\", \n",
    "                        columns=['update', 'fitness'], \n",
    "                        names=averages_header_row, verbose=True)\n",
    "print thing.keys()\n",
    "print thing['hgtbonus']\n",
    "thing = read_treatments(\"P_1/*\", \"average.dat\", names=averages_header_row, verbose=True)\n",
    "print thing.keys()\n",
    "print thing['hgtbonus']\n"
   ]
  },
  {
   "cell_type": "code",
   "execution_count": null,
   "metadata": {
    "collapsed": false
   },
   "outputs": [],
   "source": [
    "# dataframes are an array of dataframes, one per replicate.\n",
    "def group_treatment(data_frames, verbose=False):\n",
    "    ## data_frames is a [] of dataframes that are all replicates of each other.\n",
    "    #print data_frames\n",
    "    if verbose:\n",
    "        print \"Incoming:\"\n",
    "        print len(data_frames)    \n",
    "    aggregated_dataframe = (pd.concat(data_frames, axis=1, keys=range(len(data_frames)))\n",
    "                            .swaplevel(0, 1, axis=1)\n",
    "                            .sortlevel(axis=1)\n",
    "                            .groupby(level=0, axis=1))\n",
    "    if verbose:\n",
    "        print \"Out:\"\n",
    "        print aggregated_dataframe.head()\n",
    "\n",
    "    return aggregated_dataframe\n",
    "\n",
    "\n",
    "## Tests\n",
    "treatments = read_treatments(\"P_1/*\", \"average.dat\", \n",
    "                        columns=['update', 'fitness'], \n",
    "                        names=averages_header_row)\n",
    "print treatments.keys()\n",
    "\n",
    "aggregated_treatments = {}\n",
    "for df_set_key in treatments.keys():\n",
    "    print df_set_key\n",
    "    aggregated_treatments[df_set_key] = group_treatment(treatments[df_set_key], verbose=True)\n",
    "    #print aggregated_treatments[df_set_key].describe()\n"
   ]
  },
  {
   "cell_type": "code",
   "execution_count": null,
   "metadata": {
    "collapsed": false
   },
   "outputs": [],
   "source": [
    "def calc_stats(aggregated_dataframe, verbose=False):\n",
    "    # calculate stats for data\n",
    "\n",
    "    means = aggregated_dataframe.mean()\n",
    "    stderrs = aggregated_dataframe.std().div(np.sqrt(len(aggregated_dataframe))).mul(2.0)\n",
    "    \n",
    "    if verbose:\n",
    "        print \"Means:\"\n",
    "        print means.head()\n",
    "        print \"STDErrs:\"\n",
    "        print stderrs.head()\n",
    "    \n",
    "    return (means, stderrs)\n",
    "\n",
    "## Tests\n",
    "treatments = read_treatments(\"P_1/hgtbonus\", \"average.dat\", \n",
    "                        columns=['update', 'fitness'], \n",
    "                        names=averages_header_row)\n",
    "print treatments.keys()\n",
    "\n",
    "aggregated_treatments = {}\n",
    "aggregated_means = {}\n",
    "for df_set_key in treatments.keys():\n",
    "    aggregated_treatments[df_set_key] = group_treatment(treatments[df_set_key], verbose=False)\n",
    "    (means, stds) = calc_stats(aggregated_treatments[df_set_key], verbose=True)\n",
    "\n",
    "   "
   ]
  },
  {
   "cell_type": "code",
   "execution_count": null,
   "metadata": {
    "collapsed": false
   },
   "outputs": [],
   "source": [
    "def bootstrap_error( data , verbose=False, debug=False):\n",
    "    x = np.array(data)\n",
    "    if debug:\n",
    "        print len(x)\n",
    "        #print x\n",
    "    X = [] ## estimates\n",
    "    mean = np.mean(x)\n",
    "    for xx in xrange(1000): ## do this 1000 times\n",
    "        X.append( np.mean( x[np.random.randint(len(x),size=len(x))] ) )\n",
    "    if debug:\n",
    "        print len(X)\n",
    "        #print X\n",
    "                \n",
    "    ## re-sample means are not guaranteed to be quite right.\n",
    "    ## Conf 0.95, loc=sample mean, scale = (np.std(X, ddof=1)/np.sqrt(len(X)))\n",
    "    conf_int = stats.norm.interval(0.95, loc=np.mean(X), scale=stats.sem(X))\n",
    "    if debug:\n",
    "        print conf_int\n",
    "\n",
    "    return conf_int\n",
    "\n",
    "def calc_bootstrap_error(aggDF, verbose=False, debug=False):\n",
    "    bsErrDF = pd.DataFrame()\n",
    "    for key, subset in aggDF:\n",
    "        if verbose:\n",
    "            print \"Key: \" + key\n",
    "            print subset.head()\n",
    "            print len(subset)\n",
    "        \n",
    "        CIs = []\n",
    "        for i in range(len(subset)):\n",
    "            vals = subset.iloc[i].values\n",
    "            if debug:\n",
    "                print vals\n",
    "            CIs.append(bootstrap_error(vals, verbose=verbose, debug=debug))\n",
    "        \n",
    "        if verbose:\n",
    "            print CIs\n",
    "            \n",
    "        bsErrDF[key] = CIs\n",
    "        #bleh = subset.apply(lambda x:bootstrap.ci(data=x.values))\n",
    "        #print bleh\n",
    "\n",
    "    if verbose:\n",
    "        print \"BOOTSTRAP VALS:\"\n",
    "        print bsErrDF.head()\n",
    "        \n",
    "    return bsErrDF\n",
    "\n",
    "\n",
    "## Tests\n",
    "treatments = read_treatments(\"P_1/hgtbonus\", \"average.dat\", \n",
    "                        columns=['update', 'fitness'], \n",
    "                        names=averages_header_row)\n",
    "print treatments.keys()\n",
    "\n",
    "aggregated_treatments = {}\n",
    "aggregated_means = {}\n",
    "for df_set_key in treatments.keys():\n",
    "    aggregated_treatments[df_set_key] = group_treatment(treatments[df_set_key], verbose=False)\n",
    "    #(means, stds) = calc_stats(aggregated_treatments[df_set_key], verbose=True)\n",
    "    bootstrap_err = calc_bootstrap_error(aggregated_treatments[df_set_key], verbose=True)"
   ]
  },
  {
   "cell_type": "code",
   "execution_count": null,
   "metadata": {
    "collapsed": true
   },
   "outputs": [],
   "source": [
    "def plot_column(column, meanDFs, stderrDFs):\n",
    "    \n",
    "\n",
    "    plt.figure(figsize=(20, 15))\n",
    "    plt.title(column.replace(\"_\", \" \").title())\n",
    "    plt.ylabel(column.replace(\"_\", \" \").title())\n",
    "    plt.xlabel(\"update\")\n",
    "\n",
    "    for key in meanDFs.keys():\n",
    "\n",
    "        plt.errorbar(x=meanDFs[key][\"update\"], \n",
    "                     y=meanDFs[key][column], \n",
    "                     yerr=stderrDFs[key][column], \n",
    "                     label=key)\n",
    "\n",
    "    plt.legend(loc=2)\n",
    "    \n",
    "plot_column('fitness', means_t, bootstraps_t)"
   ]
  },
  {
   "cell_type": "code",
   "execution_count": null,
   "metadata": {
    "collapsed": false
   },
   "outputs": [],
   "source": [
    "def plot_sets(column, treatment, means, errors):\n",
    "    \n",
    "    plt.figure(figsize=(20, 15))\n",
    "    plt.title(column.replace(\"_\", \" \").title())\n",
    "    plt.ylabel(column.replace(\"_\", \" \").title())\n",
    "    plt.xlabel(\"update\")\n",
    "\n",
    "    for treatmentset in means.keys():\n",
    "\n",
    "        plt.errorbar(x=means[treatmentset][treatment][\"update\"], # mean\n",
    "                     y=means[treatmentset][treatment][column], # mean\n",
    "                     yerr=errors[treatmentset][treatment][column], # stderr\n",
    "                     label=treatmentset)\n",
    "\n",
    "    plt.legend(loc=2)"
   ]
  },
  {
   "cell_type": "code",
   "execution_count": null,
   "metadata": {
    "collapsed": false
   },
   "outputs": [],
   "source": []
  },
  {
   "cell_type": "markdown",
   "metadata": {},
   "source": [
    "## Analysis"
   ]
  },
  {
   "cell_type": "markdown",
   "metadata": {},
   "source": [
    "### Basic Sanity Checks"
   ]
  },
  {
   "cell_type": "code",
   "execution_count": null,
   "metadata": {
    "collapsed": false,
    "scrolled": false
   },
   "outputs": [],
   "source": [
    "dataLists_P_1 = read_glob(\"P_1*/*\", \"average.dat\")\n",
    "means_P_1,stderrs_P_1 = calc_stats(dataLists_P_1)"
   ]
  },
  {
   "cell_type": "code",
   "execution_count": null,
   "metadata": {
    "collapsed": true
   },
   "outputs": [],
   "source": [
    "dataLists_P_1"
   ]
  },
  {
   "cell_type": "code",
   "execution_count": null,
   "metadata": {
    "collapsed": true
   },
   "outputs": [],
   "source": [
    "means_P_1"
   ]
  },
  {
   "cell_type": "code",
   "execution_count": null,
   "metadata": {
    "collapsed": true
   },
   "outputs": [],
   "source": [
    "plot_column('fitness', means_P_1, stderrs_P_1)"
   ]
  },
  {
   "cell_type": "code",
   "execution_count": null,
   "metadata": {
    "collapsed": false
   },
   "outputs": [],
   "source": [
    "dataLists_P_0 = read_glob(\"P_0/*\", \"average.dat\")\n",
    "\n",
    "#means_P_0,stderrs_P_0 = calc_stats(dataLists_P_0)"
   ]
  },
  {
   "cell_type": "code",
   "execution_count": null,
   "metadata": {
    "collapsed": false
   },
   "outputs": [],
   "source": [
    "plot_column('fitness', means_P_0, stderrs_P_0)"
   ]
  },
  {
   "cell_type": "markdown",
   "metadata": {},
   "source": [
    "### Comparing Probability Treatments"
   ]
  },
  {
   "cell_type": "code",
   "execution_count": null,
   "metadata": {
    "collapsed": false
   },
   "outputs": [],
   "source": [
    "probs = ['1', '0.75', '0.5', '0.25', '0.1', '0.01', '0.001', '0']\n",
    "datas = {}\n",
    "means = {}\n",
    "errors = {}\n",
    "boostraps = {}\n",
    "for prob in probs:\n",
    "    datas[prob] = read_glob(\"P_\"+prob+\"/*\", \"average.dat\")\n",
    "    #print \"HI\"\n",
    "    means[prob], errors[prob], bootstraps[prob] = calc_stats(datas[prob])\n",
    "    "
   ]
  },
  {
   "cell_type": "code",
   "execution_count": null,
   "metadata": {
    "collapsed": false
   },
   "outputs": [],
   "source": [
    "means.keys()"
   ]
  },
  {
   "cell_type": "code",
   "execution_count": null,
   "metadata": {
    "collapsed": false
   },
   "outputs": [],
   "source": [
    "means['0'].keys()"
   ]
  },
  {
   "cell_type": "code",
   "execution_count": null,
   "metadata": {
    "collapsed": false,
    "scrolled": true
   },
   "outputs": [],
   "source": [
    "means['0.01']['hgtbonus'].describe()"
   ]
  },
  {
   "cell_type": "code",
   "execution_count": null,
   "metadata": {
    "collapsed": false
   },
   "outputs": [],
   "source": [
    "means['0.75']['hgtbonus'].describe()"
   ]
  },
  {
   "cell_type": "code",
   "execution_count": null,
   "metadata": {
    "collapsed": false,
    "scrolled": true
   },
   "outputs": [],
   "source": [
    "plot_sets(\"fitness\", \"hgtbonus\", means, errors)"
   ]
  },
  {
   "cell_type": "markdown",
   "metadata": {},
   "source": [
    "### Just the mean lines"
   ]
  },
  {
   "cell_type": "code",
   "execution_count": null,
   "metadata": {
    "collapsed": true
   },
   "outputs": [],
   "source": [
    "def plot_across_treatments(treatmentset, treatment, column):\n",
    "    #treatmentset = set of probabilities to plot ['1', '0.1'...]\n",
    "    #treatment = which treatment to plot \"hgt\" \"hgtbonus\" etc.\n",
    "    #column = which column to plot \"fitness\", \"gestation_time\" etc.\n",
    "    data = {}\n",
    "    means = {}\n",
    "    errors = {}\n",
    "    bootstrap_errors = {}\n",
    "    \n",
    "    combined_dataframes = pd.DataFrame()\n",
    "    \n",
    "    for prob in treatmentset:\n",
    "        data[prob] = read_glob(\"P_\"+prob+\"/*\", \"average.dat\")\n",
    "        #print \"HI\"\n",
    "        means[prob], errors[prob] = calc_stats(data[prob])\n",
    "        bootstrap_errors[prob] = calc_bootstrap(data[prob], column)\n",
    "    \n",
    "    for treatmentset in sorted(means.keys()):\n",
    "        combined_dataframes[treatmentset] = means[treatmentset][treatment][column]\n",
    "        \n",
    "    ax = combined_dataframes.plot(logy=True, \n",
    "                              title=\"fitnesses at various hgtbonus probabilities\", \n",
    "                              yerr=bootstrap_errors\n",
    "                             )\n",
    "    ax.set_xlabel(\"100x Updates\"),\n",
    "    ax.set_ylabel(\"log fitness\")    \n"
   ]
  },
  {
   "cell_type": "code",
   "execution_count": null,
   "metadata": {
    "collapsed": false
   },
   "outputs": [],
   "source": [
    "plot_across_treatments(['1', '0.75', '0.5', '0.25', '0.1', '0.01', '0.001', '0'],\n",
    "                      \"hgtbonus\", \"fitness\")"
   ]
  },
  {
   "cell_type": "code",
   "execution_count": null,
   "metadata": {
    "collapsed": false
   },
   "outputs": [],
   "source": [
    "#probs = ['1', '0.75', '0.5', '0.25', '0.1', '0.01', '0.001', '0']\n",
    "probs = ['0.01']\n",
    "datas_t = {}\n",
    "means_t = {}\n",
    "errors_t = {}\n",
    "bootstraps_t = {}\n",
    "for prob in probs:\n",
    "    datas_t[prob] = read_glob(\"P_\"+prob+\"/*\", \"average.dat\")\n",
    "    #print \"HI\"\n",
    "    means_t[prob], errors_t[prob] = calc_stats(datas_t[prob])\n",
    "    bootstraps_t[prob] = calc_bootstrap(datas_t[prob], \"fitness\")\n",
    "    \n",
    "combined_dataframes = pd.DataFrame()\n",
    "treatment = \"hgtbonus\"\n",
    "column = \"fitness\"\n",
    "for treatmentset in sorted(means.keys()):\n",
    "    #if (treatmentset not in ['0.25', '0.5', '0.75']):\n",
    "    combined_dataframes[treatmentset] = means[treatmentset][treatment][column]\n",
    "    \n",
    "ax = combined_dataframes.plot(logy=True, \n",
    "                              title=\"fitnesses at various hgtbonus probabilities\", \n",
    "                              yerr=combined_dataframes.std()\n",
    "                             )\n",
    "ax.set_xlabel(\"100x Updates\"),\n",
    "ax.set_ylabel(\"log fitness\")"
   ]
  },
  {
   "cell_type": "code",
   "execution_count": null,
   "metadata": {
    "collapsed": false,
    "scrolled": true
   },
   "outputs": [],
   "source": [
    "combined_dataframes.head()"
   ]
  },
  {
   "cell_type": "code",
   "execution_count": null,
   "metadata": {
    "collapsed": false
   },
   "outputs": [],
   "source": [
    "combined_dataframes.std()"
   ]
  },
  {
   "cell_type": "code",
   "execution_count": null,
   "metadata": {
    "collapsed": false
   },
   "outputs": [],
   "source": [
    "sorted(combined_dataframes.columns)"
   ]
  },
  {
   "cell_type": "code",
   "execution_count": null,
   "metadata": {
    "collapsed": false
   },
   "outputs": [],
   "source": [
    "ax = combined_dataframes.plot(logy=True, \n",
    "                              title=\"fitnesses at various hgtbonus probabilities\", \n",
    "                              yerr=combined_dataframes.std()\n",
    "                             )\n",
    "ax.set_xlabel(\"100x Updates\"),\n",
    "ax.set_ylabel(\"log fitness\")"
   ]
  },
  {
   "cell_type": "code",
   "execution_count": null,
   "metadata": {
    "collapsed": false
   },
   "outputs": [],
   "source": [
    "dir(combined_dataframes.plot())"
   ]
  },
  {
   "cell_type": "code",
   "execution_count": null,
   "metadata": {
    "collapsed": false
   },
   "outputs": [],
   "source": [
    "combined_dataframes.describe()"
   ]
  },
  {
   "cell_type": "markdown",
   "metadata": {},
   "source": [
    "### Now for something new"
   ]
  },
  {
   "cell_type": "code",
   "execution_count": null,
   "metadata": {
    "collapsed": true
   },
   "outputs": [],
   "source": [
    "from pandas.tools.plotting import bootstrap_plot"
   ]
  },
  {
   "cell_type": "code",
   "execution_count": null,
   "metadata": {
    "collapsed": false
   },
   "outputs": [],
   "source": [
    "bootstrap_plot(combined_dataframes['0.01'], size=20, samples=500, color='grey')"
   ]
  },
  {
   "cell_type": "code",
   "execution_count": null,
   "metadata": {
    "collapsed": true
   },
   "outputs": [],
   "source": []
  }
 ],
 "metadata": {
  "kernelspec": {
   "display_name": "Python 2",
   "language": "python2",
   "name": "python2"
  },
  "language_info": {
   "codemirror_mode": {
    "name": "ipython",
    "version": 2
   },
   "file_extension": ".py",
   "mimetype": "text/x-python",
   "name": "python",
   "nbconvert_exporter": "python",
   "pygments_lexer": "ipython2",
   "version": "2.7.11"
  },
  "latex_envs": {
   "bibliofile": "biblio.bib",
   "cite_by": "apalike",
   "current_citInitial": 1,
   "eqLabelWithNumbers": true,
   "eqNumInitial": 0
  }
 },
 "nbformat": 4,
 "nbformat_minor": 0
}
